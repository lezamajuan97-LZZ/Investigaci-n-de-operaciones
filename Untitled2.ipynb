{
  "nbformat": 4,
  "nbformat_minor": 0,
  "metadata": {
    "colab": {
      "provenance": [],
      "authorship_tag": "ABX9TyM/mxyfGbk1VmzdN/5M5yh9",
      "include_colab_link": true
    },
    "kernelspec": {
      "name": "python3",
      "display_name": "Python 3"
    },
    "language_info": {
      "name": "python"
    }
  },
  "cells": [
    {
      "cell_type": "markdown",
      "metadata": {
        "id": "view-in-github",
        "colab_type": "text"
      },
      "source": [
        "<a href=\"https://colab.research.google.com/github/lezamajuan97-LZZ/Investigaci-n-de-operaciones/blob/main/Untitled2.ipynb\" target=\"_parent\"><img src=\"https://colab.research.google.com/assets/colab-badge.svg\" alt=\"Open In Colab\"/></a>"
      ]
    },
    {
      "cell_type": "markdown",
      "source": [
        "# Probabilidades del tablero de colores"
      ],
      "metadata": {
        "id": "P0CNVZEnt8QT"
      }
    },
    {
      "cell_type": "markdown",
      "source": [
        "Corrección del código visto en clase"
      ],
      "metadata": {
        "id": "XR3vBCgIunbw"
      }
    },
    {
      "cell_type": "code",
      "execution_count": 40,
      "metadata": {
        "id": "HP3SL5cKcZNu"
      },
      "outputs": [],
      "source": [
        "import matplotlib.pyplot as plt\n",
        "import numpy as np"
      ]
    },
    {
      "cell_type": "code",
      "source": [
        "p = 1\n",
        "q = 0\n",
        "n = 20"
      ],
      "metadata": {
        "id": "MMxqWpIheYWu"
      },
      "execution_count": 64,
      "outputs": []
    },
    {
      "cell_type": "code",
      "source": [
        "p_i = []\n",
        "q_i = []\n",
        "\n",
        "for i in range(n):\n",
        "  P = p                 # esta variable guarda el valor de p antes de actualizarse\n",
        "  Q = q                 # Esta variable guarda el valor de q antes de actualizarse\n",
        "  p = 0.6*P + 0.3*Q\n",
        "  q = 0.4*P + 0.7*Q     # Para corregir esta línea En lugar de utilizar p Utilizamos P que es el valor antes de actualizarse\n",
        "  p_i.append(p)\n",
        "  q_i.append(q)"
      ],
      "metadata": {
        "id": "QhqPAV4NewHX"
      },
      "execution_count": 65,
      "outputs": []
    },
    {
      "cell_type": "code",
      "source": [
        "p_i"
      ],
      "metadata": {
        "colab": {
          "base_uri": "https://localhost:8080/"
        },
        "id": "ky97eA2DhHwR",
        "outputId": "34451df6-ba62-4dae-c209-3650c6eed808"
      },
      "execution_count": 66,
      "outputs": [
        {
          "output_type": "execute_result",
          "data": {
            "text/plain": [
              "[0.6,\n",
              " 0.48,\n",
              " 0.44399999999999995,\n",
              " 0.4332,\n",
              " 0.42996,\n",
              " 0.4289879999999999,\n",
              " 0.42869639999999987,\n",
              " 0.42860891999999984,\n",
              " 0.4285826759999998,\n",
              " 0.42857480279999977,\n",
              " 0.42857244083999974,\n",
              " 0.42857173225199974,\n",
              " 0.4285715196755997,\n",
              " 0.4285714559026797,\n",
              " 0.42857143677080367,\n",
              " 0.4285714310312409,\n",
              " 0.42857142930937203,\n",
              " 0.4285714287928114,\n",
              " 0.42857142863784314,\n",
              " 0.42857142859135267]"
            ]
          },
          "metadata": {},
          "execution_count": 66
        }
      ]
    },
    {
      "cell_type": "code",
      "source": [
        "q_i"
      ],
      "metadata": {
        "colab": {
          "base_uri": "https://localhost:8080/"
        },
        "id": "nDUjLr-piDDG",
        "outputId": "98db8339-fe89-4591-ad30-e475c4995725"
      },
      "execution_count": 67,
      "outputs": [
        {
          "output_type": "execute_result",
          "data": {
            "text/plain": [
              "[0.4,\n",
              " 0.52,\n",
              " 0.556,\n",
              " 0.5668,\n",
              " 0.5700399999999999,\n",
              " 0.5710119999999999,\n",
              " 0.5713035999999998,\n",
              " 0.5713910799999997,\n",
              " 0.5714173239999998,\n",
              " 0.5714251971999997,\n",
              " 0.5714275591599997,\n",
              " 0.5714282677479996,\n",
              " 0.5714284803243996,\n",
              " 0.5714285440973197,\n",
              " 0.5714285632291957,\n",
              " 0.5714285689687584,\n",
              " 0.5714285706906272,\n",
              " 0.5714285712071878,\n",
              " 0.571428571362156,\n",
              " 0.5714285714086464]"
            ]
          },
          "metadata": {},
          "execution_count": 67
        }
      ]
    },
    {
      "cell_type": "code",
      "source": [
        "plt.plot(p_i)\n",
        "plt.plot(q_i)"
      ],
      "metadata": {
        "colab": {
          "base_uri": "https://localhost:8080/",
          "height": 448
        },
        "id": "adcpmFkGpGj9",
        "outputId": "895fd19e-992b-4a8a-c06c-8cb06bc81dc5"
      },
      "execution_count": 68,
      "outputs": [
        {
          "output_type": "execute_result",
          "data": {
            "text/plain": [
              "[<matplotlib.lines.Line2D at 0x7f427bfc3f80>]"
            ]
          },
          "metadata": {},
          "execution_count": 68
        },
        {
          "output_type": "display_data",
          "data": {
            "text/plain": [
              "<Figure size 640x480 with 1 Axes>"
            ],
            "image/png": "[encoded data removed]"
          },
          "metadata": {}
        }
      ]
    },
    {
      "cell_type": "markdown",
      "source": [
        "# Respuesta de la pregunta del problema"
      ],
      "metadata": {
        "id": "eoDBvTH8rqwU"
      }
    },
    {
      "cell_type": "markdown",
      "source": [
        "*¿ Son todos los sectores igual de probables cuando pasen mucho tiempo ?*\n",
        "\n",
        "Observando las gráficas nos damos cuenta que los valores de P y de Q, De cierta forma se estabilizan y tienden a un solo valor, lo qué nos podría indicar que efectivamente Después de cierto tiempo Los sectores se hacen igual de probables"
      ],
      "metadata": {
        "id": "nxQXEzVzryHg"
      }
    }
  ]
}